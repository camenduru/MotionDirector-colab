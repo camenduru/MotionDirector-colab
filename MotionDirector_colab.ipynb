{
  "cells": [
    {
      "cell_type": "markdown",
      "metadata": {
        "id": "view-in-github"
      },
      "source": [
        "[![Open In Colab](https://colab.research.google.com/assets/colab-badge.svg)](https://colab.research.google.com/github/camenduru/MotionDirector-colab/blob/main/MotionDirector_colab.ipynb)"
      ]
    },
    {
      "cell_type": "code",
      "execution_count": null,
      "metadata": {
        "id": "VjYy0F2gZIPR"
      },
      "outputs": [],
      "source": [
        "%cd /content\n",
        "!git clone -b dev https://github.com/camenduru/MotionDirector\n",
        "!git clone https://huggingface.co/vdo/MotionDirector /content/MotionDirector/models/MotionDirector\n",
        "!pip install -q -r requirements.txt\n",
        "!pip install -q xformers==0.0.20\n",
        "%cd /content/MotionDirector"
      ]
    },
    {
      "cell_type": "code",
      "execution_count": null,
      "metadata": {},
      "outputs": [],
      "source": [
        "prompt = \"A person is riding a bicycle past the Eiffel Tower.\" #@param {type:\"string\"}\n",
        "prompt = f\"\\\"{prompt}\\\"\"\n",
        "negative_prompt = \"blurry\" #@param {type:\"string\"}\n",
        "negative_prompt = f\"\\\"{negative_prompt}\\\"\"\n",
        "\n",
        "width = 256 #@param {type:\"raw\"}\n",
        "height = 256 #@param {type:\"raw\"}\n",
        "num_frames = 24 #@param {type:\"raw\"}\n",
        "num_steps = 50 #@param {type:\"raw\"}\n",
        "guidance_scale = 15 #@param {type:\"raw\"}\n",
        "\n",
        "model = \"/content/MotionDirector/models/MotionDirector/zeroscope_v2_576w\"\n",
        "checkpoint_folder = \"/content/MotionDirector/models/MotionDirector/train/train_2023-12-02T13-39-36\"\n",
        "checkpoint_index = 300 #@param {type:\"raw\"}\n",
        "noise_prior = 0 #@param {type:\"raw\"}\n",
        "seed = 0 #@param {type:\"raw\"}\n",
        "!python MotionDirector_inference.py --model {model} --prompt {prompt} \\\n",
        "          --checkpoint_folder {checkpoint_folder} --checkpoint_index \\\n",
        "          {checkpoint_index} --noise_prior {noise_prior} --seed {seed} \\\n",
        "          --width {width} --height {height} --num-frames {num_frames} \\\n",
        "          --num-steps {num_steps} --guidance-scale {guidance_scale} \\\n",
        "          --xformers --negative-prompt {negative_prompt}"
      ]
    }
  ],
  "metadata": {
    "accelerator": "GPU",
    "colab": {
      "gpuType": "T4",
      "provenance": []
    },
    "kernelspec": {
      "display_name": "Python 3",
      "name": "python3"
    },
    "language_info": {
      "name": "python"
    }
  },
  "nbformat": 4,
  "nbformat_minor": 0
}
